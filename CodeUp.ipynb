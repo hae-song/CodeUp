{
  "nbformat": 4,
  "nbformat_minor": 0,
  "metadata": {
    "colab": {
      "name": "CodeUp.ipynb",
      "provenance": [],
      "collapsed_sections": [],
      "authorship_tag": "ABX9TyM732/Dadmw0LDeucvw/nxm",
      "include_colab_link": true
    },
    "kernelspec": {
      "name": "python3",
      "display_name": "Python 3"
    },
    "language_info": {
      "name": "python"
    }
  },
  "cells": [
    {
      "cell_type": "markdown",
      "metadata": {
        "id": "view-in-github",
        "colab_type": "text"
      },
      "source": [
        "<a href=\"https://colab.research.google.com/github/hae-song/CodeUp/blob/main/CodeUp.ipynb\" target=\"_parent\"><img src=\"https://colab.research.google.com/assets/colab-badge.svg\" alt=\"Open In Colab\"/></a>"
      ]
    },
    {
      "cell_type": "markdown",
      "source": [
        "6003"
      ],
      "metadata": {
        "id": "wSa5gWZAHOcg"
      }
    },
    {
      "cell_type": "code",
      "execution_count": null,
      "metadata": {
        "colab": {
          "base_uri": "https://localhost:8080/"
        },
        "id": "GDY_lA0sFq-P",
        "outputId": "303459e4-3206-468b-f60d-1fc1c0b0a232"
      },
      "outputs": [
        {
          "output_type": "stream",
          "name": "stdout",
          "text": [
            "hello\n",
            "world\n"
          ]
        }
      ],
      "source": [
        "print('hello')\n",
        "print('world')"
      ]
    },
    {
      "cell_type": "markdown",
      "source": [
        "6004"
      ],
      "metadata": {
        "id": "qDcpMuX1HNSt"
      }
    },
    {
      "cell_type": "code",
      "source": [
        "print(\"'hello'\")"
      ],
      "metadata": {
        "colab": {
          "base_uri": "https://localhost:8080/"
        },
        "id": "h4T_8lYcHPyl",
        "outputId": "21c0c581-a590-4de0-f1b7-2c800f91110d"
      },
      "execution_count": null,
      "outputs": [
        {
          "output_type": "stream",
          "name": "stdout",
          "text": [
            "'hello'\n"
          ]
        }
      ]
    },
    {
      "cell_type": "markdown",
      "source": [
        "6005"
      ],
      "metadata": {
        "id": "LxX1aeBkHU_a"
      }
    },
    {
      "cell_type": "code",
      "source": [
        "print('\"hello world\"')"
      ],
      "metadata": {
        "colab": {
          "base_uri": "https://localhost:8080/"
        },
        "id": "RNYGEnPlHWHc",
        "outputId": "a6cfc3d7-7bbf-4033-8655-0fb49ae28177"
      },
      "execution_count": null,
      "outputs": [
        {
          "output_type": "stream",
          "name": "stdout",
          "text": [
            "\"hello world\"\n"
          ]
        }
      ]
    },
    {
      "cell_type": "markdown",
      "source": [
        "6006"
      ],
      "metadata": {
        "id": "WsQ8UVdnHbUJ"
      }
    },
    {
      "cell_type": "code",
      "source": [
        "print('\\\"\\!@#$%^&*()\\'')\n",
        "#코드 앞에 \\ 넣어서 구분해주기"
      ],
      "metadata": {
        "id": "smRCkFo6Ha4l",
        "colab": {
          "base_uri": "https://localhost:8080/"
        },
        "outputId": "16d4426c-6c19-4514-e36f-03463ecfd0a9"
      },
      "execution_count": 8,
      "outputs": [
        {
          "output_type": "stream",
          "name": "stdout",
          "text": [
            "\"\\!@#$%^&*()'\n"
          ]
        }
      ]
    },
    {
      "cell_type": "markdown",
      "source": [
        "6007"
      ],
      "metadata": {
        "id": "7dHdXi4YJFBd"
      }
    }
  ]
}