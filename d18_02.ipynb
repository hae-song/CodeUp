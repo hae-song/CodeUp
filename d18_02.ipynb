{
  "nbformat": 4,
  "nbformat_minor": 0,
  "metadata": {
    "colab": {
      "name": "d18_02.ipynb",
      "provenance": [],
      "collapsed_sections": [],
      "authorship_tag": "ABX9TyMEwyZPkb4LKvpL+zem3Mgl",
      "include_colab_link": true
    },
    "kernelspec": {
      "name": "python3",
      "display_name": "Python 3"
    },
    "language_info": {
      "name": "python"
    },
    "accelerator": "GPU"
  },
  "cells": [
    {
      "cell_type": "markdown",
      "metadata": {
        "id": "view-in-github",
        "colab_type": "text"
      },
      "source": [
        "<a href=\"https://colab.research.google.com/github/hae-song/CodeUp/blob/main/d18_02.ipynb\" target=\"_parent\"><img src=\"https://colab.research.google.com/assets/colab-badge.svg\" alt=\"Open In Colab\"/></a>"
      ]
    },
    {
      "cell_type": "code",
      "execution_count": 1,
      "metadata": {
        "colab": {
          "base_uri": "https://localhost:8080/"
        },
        "id": "US2gYKZ5rQ6T",
        "outputId": "6c07b416-ae69-4bfa-c108-80caba67dfe9"
      },
      "outputs": [
        {
          "output_type": "stream",
          "name": "stdout",
          "text": [
            "Mounted at /content/drive\n"
          ]
        }
      ],
      "source": [
        "%run my_init.py"
      ]
    },
    {
      "cell_type": "code",
      "source": [
        "%matplotlib inline"
      ],
      "metadata": {
        "id": "y98avfZnrm95"
      },
      "execution_count": 2,
      "outputs": []
    },
    {
      "cell_type": "code",
      "source": [
        "from keras.datasets import imdb\n",
        "from keras.preprocessing import sequence\n",
        "from keras.models import Sequential\n",
        "from keras.layers import Embedding, Dense, SimpleRNN, LSTM, Conv1D, MaxPooling1D, Dropout"
      ],
      "metadata": {
        "id": "RLQXeM3Erpcd"
      },
      "execution_count": 21,
      "outputs": []
    },
    {
      "cell_type": "code",
      "source": [
        "(x_train, y_train), (x_test, y_test) = imdb.load_data(num_words=5000)"
      ],
      "metadata": {
        "id": "6Do191Gsshwb"
      },
      "execution_count": 11,
      "outputs": []
    },
    {
      "cell_type": "code",
      "source": [
        "x_train = sequence.pad_sequences(x_train, maxlen=100)\n",
        "x_test = sequence.pad_sequences(x_test, maxlen=100)"
      ],
      "metadata": {
        "id": "Eo5ihiHVsLwW"
      },
      "execution_count": 12,
      "outputs": []
    },
    {
      "cell_type": "code",
      "source": [
        "model = keras.Sequential()\n",
        "model.add(Embedding(5000,100))\n",
        "model.add(Dropout(0.5))\n",
        "model.add(Conv1D(64,5, activation='relu'))  #2차원이 아니고 1차원으로 5\n",
        "model.add(MaxPooling1D(4))\n",
        "model.add(SimpleRNN(40))\n",
        "model.add(Dense(1, activation='sigmoid'))"
      ],
      "metadata": {
        "id": "-oTeLXigs2Ml"
      },
      "execution_count": 24,
      "outputs": []
    },
    {
      "cell_type": "code",
      "source": [
        "model.summary()"
      ],
      "metadata": {
        "colab": {
          "base_uri": "https://localhost:8080/"
        },
        "id": "6V6W4BSIvZ9o",
        "outputId": "24c32f65-6de2-452b-b8c1-97ae0646a16f"
      },
      "execution_count": 25,
      "outputs": [
        {
          "output_type": "stream",
          "name": "stdout",
          "text": [
            "Model: \"sequential_5\"\n",
            "_________________________________________________________________\n",
            " Layer (type)                Output Shape              Param #   \n",
            "=================================================================\n",
            " embedding_5 (Embedding)     (None, None, 100)         500000    \n",
            "                                                                 \n",
            " dropout_5 (Dropout)         (None, None, 100)         0         \n",
            "                                                                 \n",
            " conv1d_5 (Conv1D)           (None, None, 64)          32064     \n",
            "                                                                 \n",
            " max_pooling1d_1 (MaxPooling  (None, None, 64)         0         \n",
            " 1D)                                                             \n",
            "                                                                 \n",
            " simple_rnn_1 (SimpleRNN)    (None, 40)                4200      \n",
            "                                                                 \n",
            " dense_1 (Dense)             (None, 1)                 41        \n",
            "                                                                 \n",
            "=================================================================\n",
            "Total params: 536,305\n",
            "Trainable params: 536,305\n",
            "Non-trainable params: 0\n",
            "_________________________________________________________________\n"
          ]
        }
      ]
    },
    {
      "cell_type": "code",
      "source": [
        "model.compile('adam', 'binary_crossentropy', ['accuracy'])"
      ],
      "metadata": {
        "id": "Uc-3_nfzvgfS"
      },
      "execution_count": 26,
      "outputs": []
    },
    {
      "cell_type": "code",
      "source": [
        "history = model.fit(x_train, y_train, epochs=5, batch_size=100, validation_data=(x_test, y_test))"
      ],
      "metadata": {
        "colab": {
          "base_uri": "https://localhost:8080/"
        },
        "id": "thIrC_tgvrWb",
        "outputId": "99c4da75-b797-4c38-b255-dadedf22efab"
      },
      "execution_count": 28,
      "outputs": [
        {
          "output_type": "stream",
          "name": "stdout",
          "text": [
            "Epoch 1/5\n",
            "250/250 [==============================] - 13s 45ms/step - loss: 0.1294 - accuracy: 0.9533 - val_loss: 0.4503 - val_accuracy: 0.8401\n",
            "Epoch 2/5\n",
            "250/250 [==============================] - 11s 43ms/step - loss: 0.0983 - accuracy: 0.9664 - val_loss: 0.5072 - val_accuracy: 0.8408\n",
            "Epoch 3/5\n",
            "250/250 [==============================] - 11s 44ms/step - loss: 0.0834 - accuracy: 0.9695 - val_loss: 0.5564 - val_accuracy: 0.8396\n",
            "Epoch 4/5\n",
            "250/250 [==============================] - 11s 45ms/step - loss: 0.0718 - accuracy: 0.9732 - val_loss: 0.5700 - val_accuracy: 0.8358\n",
            "Epoch 5/5\n",
            "250/250 [==============================] - 11s 43ms/step - loss: 0.0632 - accuracy: 0.9774 - val_loss: 0.6055 - val_accuracy: 0.8376\n"
          ]
        }
      ]
    },
    {
      "cell_type": "code",
      "source": [
        "y_vloss = history.history['val_loss']\n",
        "y_loss = history.history['loss']\n",
        "x_len = np.arange(len(y_loss))\n",
        "\n",
        "plt.plot(x_len, y_vloss, marker='.',c='red',label='Testset_loss')\n",
        "plt.plot(x_len, y_loss, marker='.',c='blue',label='Trainset_loss')\n",
        "plt.plot(history.history['val_loss'])\n",
        "plt.xlabel('epoch')\n",
        "plt.ylabel('loss')\n",
        "plt.legend(loc='upper right')\n",
        "plt.show()"
      ],
      "metadata": {
        "colab": {
          "base_uri": "https://localhost:8080/",
          "height": 279
        },
        "id": "1rLColOaxLlG",
        "outputId": "bea97677-966b-4e48-d63c-a60915e1337c"
      },
      "execution_count": 29,
      "outputs": [
        {
          "output_type": "display_data",
          "data": {
            "text/plain": [
              "<Figure size 432x288 with 1 Axes>"
            ],
            "image/png": "[encoded data removed]"
          },
          "metadata": {
            "needs_background": "light"
          }
        }
      ]
    }
  ]
}